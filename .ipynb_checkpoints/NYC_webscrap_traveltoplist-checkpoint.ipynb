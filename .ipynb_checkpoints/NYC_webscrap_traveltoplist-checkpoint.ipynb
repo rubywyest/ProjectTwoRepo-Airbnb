{
 "cells": [
  {
   "cell_type": "code",
   "execution_count": 7,
   "metadata": {},
   "outputs": [],
   "source": [
    "from bs4 import BeautifulSoup\n",
    "import requests\n",
    "import pymongo\n",
    "from splinter import Browser"
   ]
  },
  {
   "cell_type": "code",
   "execution_count": 8,
   "metadata": {},
   "outputs": [],
   "source": [
    "conn = 'mongodb://localhost:27017'\n",
    "client = pymongo.MongoClient(conn)"
   ]
  },
  {
   "cell_type": "code",
   "execution_count": 9,
   "metadata": {},
   "outputs": [
    {
     "name": "stdout",
     "output_type": "stream",
     "text": [
      "C:\\Users\\ruby\\Google Drive\\bootcamp\\Project2\\ProjectTwoRepo-Airbnb\\chromedriver.exe\n"
     ]
    }
   ],
   "source": [
    "!where chromedriver"
   ]
  },
  {
   "cell_type": "code",
   "execution_count": 10,
   "metadata": {},
   "outputs": [],
   "source": [
    "db = client.NYC_db\n",
    "collection = db.top10"
   ]
  },
  {
   "cell_type": "code",
   "execution_count": 11,
   "metadata": {},
   "outputs": [],
   "source": [
    "executable_path = {'executable_path': 'chromedriver.exe'}\n",
    "browser = Browser('chrome', **executable_path, headless=False)"
   ]
  },
  {
   "cell_type": "code",
   "execution_count": 12,
   "metadata": {},
   "outputs": [],
   "source": [
    "url = 'https://traveltoplist.com/places-to-visit-new-york/'\n",
    "browser.visit(url)"
   ]
  },
  {
   "cell_type": "code",
   "execution_count": 13,
   "metadata": {},
   "outputs": [],
   "source": [
    "html = browser.html\n",
    "soup = BeautifulSoup(html, 'html.parser')"
   ]
  },
  {
   "cell_type": "code",
   "execution_count": 19,
   "metadata": {},
   "outputs": [
    {
     "name": "stdout",
     "output_type": "stream",
     "text": [
      "<div class=\"entry-content\"><p><strong>Top 10 places to visit in New York: </strong>New york, The Big Apple, or the City that Never Sleeps, there are so many names that New York goes by! Find out what to do in the city!</p><p><noscript>&lt;img class=\"alignnone size-large wp-image-116\" src=\"https://traveltoplist.com/wp-content/uploads/2017/02/top-10-places-to-visit-in-New-York-1024x682.jpg\" alt=\"top 10 places to visit in New York\" width=\"640\" height=\"426\" srcset=\"https://traveltoplist.com/wp-content/uploads/2017/02/top-10-places-to-visit-in-New-York-1024x682.jpg 1024w, https://traveltoplist.com/wp-content/uploads/2017/02/top-10-places-to-visit-in-New-York-300x200.jpg 300w, https://traveltoplist.com/wp-content/uploads/2017/02/top-10-places-to-visit-in-New-York-768x511.jpg 768w, https://traveltoplist.com/wp-content/uploads/2017/02/top-10-places-to-visit-in-New-York-600x400.jpg 600w\" sizes=\"(max-width: 640px) 100vw, 640px\" /&gt;</noscript><img alt=\"top 10 places to visit in New York\" class=\"lazyload alignnone size-large wp-image-116\" data-sizes=\"(max-width: 640px) 100vw, 640px\" data-src=\"https://traveltoplist.com/wp-content/uploads/2017/02/top-10-places-to-visit-in-New-York-1024x682.jpg\" data-srcset=\"https://traveltoplist.com/wp-content/uploads/2017/02/top-10-places-to-visit-in-New-York-1024x682.jpg 1024w, https://traveltoplist.com/wp-content/uploads/2017/02/top-10-places-to-visit-in-New-York-300x200.jpg 300w, https://traveltoplist.com/wp-content/uploads/2017/02/top-10-places-to-visit-in-New-York-768x511.jpg 768w, https://traveltoplist.com/wp-content/uploads/2017/02/top-10-places-to-visit-in-New-York-600x400.jpg 600w\" height=\"426\" src=\"data:image/svg+xml,%3Csvg%20xmlns=%22http://www.w3.org/2000/svg%22%20viewBox=%220%200%20640%20426%22%3E%3C/svg%3E\" width=\"640\"/></p><div class=\"google-auto-placed ap_container\" style=\"width: 100%; height: auto; clear: none; text-align: center;\"><ins class=\"adsbygoogle adsbygoogle-noablate\" data-ad-client=\"ca-pub-4599175455791813\" data-ad-format=\"auto\" data-adsbygoogle-status=\"done\" style=\"display: block; margin: auto; background-color: transparent;\"><ins id=\"aswift_2_expand\" style=\"display:inline-table;border:none;height:154px;margin:0;padding:0;position:relative;visibility:visible;width:616px;background-color:transparent;\"><ins id=\"aswift_2_anchor\" style=\"display:block;border:none;height:154px;margin:0;padding:0;position:relative;visibility:visible;width:616px;background-color:transparent;\"><iframe allowfullscreen=\"true\" allowtransparency=\"true\" frameborder=\"0\" height=\"154\" hspace=\"0\" id=\"aswift_2\" marginheight=\"0\" marginwidth=\"0\" name=\"aswift_2\" onload=\"var i=this.id,s=window.google_iframe_oncopy,H=s&amp;&amp;s.handlers,h=H&amp;&amp;H[i],w=this.contentWindow,d;try{d=w.document}catch(e){}if(h&amp;&amp;d&amp;&amp;(!d.body||!d.body.firstChild)){if(h.call){setTimeout(h,0)}else if(h.match){try{h=s.upd(h,i)}catch(e){}w.location.replace(h)}}\" scrolling=\"no\" style=\"left:0;position:absolute;top:0;border:0px;width:616px;height:154px;\" vspace=\"0\" width=\"616\"></iframe></ins></ins></ins></div><p>With so many famous sites and attractions, it could be hard to pick how to spend your time in one of the best cities of the USA and the world. Here are some of the best places to spend your time whenever you find yourself in New York.</p><p><span id=\"more-102\"></span></p><h2>Places to visit in New York 2020 – The list</h2><p>Buckle up and get ready to visit some places of New York 2020!</p><h3>1. Empire State Building</h3><p><noscript>&lt;img class=\"alignnone size-full wp-image-104\" src=\"https://traveltoplist.com/wp-content/uploads/2017/02/empire-state-building.jpg\" alt=\"empire state building\" width=\"640\" height=\"640\" srcset=\"https://traveltoplist.com/wp-content/uploads/2017/02/empire-state-building.jpg 640w, https://traveltoplist.com/wp-content/uploads/2017/02/empire-state-building-150x150.jpg 150w, https://traveltoplist.com/wp-content/uploads/2017/02/empire-state-building-300x300.jpg 300w\" sizes=\"(max-width: 640px) 100vw, 640px\" /&gt;</noscript><img alt=\"empire state building\" class=\"lazyload alignnone size-full wp-image-104\" data-sizes=\"(max-width: 640px) 100vw, 640px\" data-src=\"https://traveltoplist.com/wp-content/uploads/2017/02/empire-state-building.jpg\" data-srcset=\"https://traveltoplist.com/wp-content/uploads/2017/02/empire-state-building.jpg 640w, https://traveltoplist.com/wp-content/uploads/2017/02/empire-state-building-150x150.jpg 150w, https://traveltoplist.com/wp-content/uploads/2017/02/empire-state-building-300x300.jpg 300w\" height=\"640\" src=\"data:image/svg+xml,%3Csvg%20xmlns=%22http://www.w3.org/2000/svg%22%20viewBox=%220%200%20640%20640%22%3E%3C/svg%3E\" width=\"640\"/></p><p>Empire State Building: There is no way to think of the cityscape of New York without the iconic spire of the Empire State Building. It is arguably the most famous landmark in New York. Visit the 102nd Floor Observatory to view distances up to 80 miles away into surrounding states. Because of the lines, it is advisable you buy your tickets early and the optional Skip the Line ticket which is good for up to a year.</p><h3>2. Central Park</h3><p><noscript>&lt;img class=\"alignnone size-large wp-image-105\" src=\"https://traveltoplist.com/wp-content/uploads/2017/02/central-park-new-york-todo-1024x625.jpg\" alt=\"central park new york\" width=\"640\" height=\"391\" srcset=\"https://traveltoplist.com/wp-content/uploads/2017/02/central-park-new-york-todo-1024x625.jpg 1024w, https://traveltoplist.com/wp-content/uploads/2017/02/central-park-new-york-todo-300x183.jpg 300w, https://traveltoplist.com/wp-content/uploads/2017/02/central-park-new-york-todo-768x469.jpg 768w\" sizes=\"(max-width: 640px) 100vw, 640px\" /&gt;</noscript><img alt=\"central park new york\" class=\"lazyload alignnone size-large wp-image-105\" data-sizes=\"(max-width: 640px) 100vw, 640px\" data-src=\"https://traveltoplist.com/wp-content/uploads/2017/02/central-park-new-york-todo-1024x625.jpg\" data-srcset=\"https://traveltoplist.com/wp-content/uploads/2017/02/central-park-new-york-todo-1024x625.jpg 1024w, https://traveltoplist.com/wp-content/uploads/2017/02/central-park-new-york-todo-300x183.jpg 300w, https://traveltoplist.com/wp-content/uploads/2017/02/central-park-new-york-todo-768x469.jpg 768w\" height=\"391\" src=\"data:image/svg+xml,%3Csvg%20xmlns=%22http://www.w3.org/2000/svg%22%20viewBox=%220%200%20640%20391%22%3E%3C/svg%3E\" width=\"640\"/></p><p>Central Park: Is there a bigger playground in New York? I think not. This vast park right in the middle of the city has so many attractions within it and has features in several Hollywood productions and TV shows. The Strawberry Fields, Central Park Zoo and the Lake are must-see. You can consider renting a bike to get around quicker.</p><h3>3. Fifth Avenue</h3><p><noscript>&lt;img class=\"alignnone size-large wp-image-106\" src=\"https://traveltoplist.com/wp-content/uploads/2017/02/fifth-avenue-new-york-1024x577.jpg\" alt=\"fifth avenue new york\" width=\"640\" height=\"361\" srcset=\"https://traveltoplist.com/wp-content/uploads/2017/02/fifth-avenue-new-york-1024x577.jpg 1024w, https://traveltoplist.com/wp-content/uploads/2017/02/fifth-avenue-new-york-300x169.jpg 300w, https://traveltoplist.com/wp-content/uploads/2017/02/fifth-avenue-new-york-768x432.jpg 768w\" sizes=\"(max-width: 640px) 100vw, 640px\" /&gt;</noscript><img alt=\"fifth avenue new york\" class=\"lazyload alignnone size-large wp-image-106\" data-sizes=\"(max-width: 640px) 100vw, 640px\" data-src=\"https://traveltoplist.com/wp-content/uploads/2017/02/fifth-avenue-new-york-1024x577.jpg\" data-srcset=\"https://traveltoplist.com/wp-content/uploads/2017/02/fifth-avenue-new-york-1024x577.jpg 1024w, https://traveltoplist.com/wp-content/uploads/2017/02/fifth-avenue-new-york-300x169.jpg 300w, https://traveltoplist.com/wp-content/uploads/2017/02/fifth-avenue-new-york-768x432.jpg 768w\" height=\"361\" src=\"data:image/svg+xml,%3Csvg%20xmlns=%22http://www.w3.org/2000/svg%22%20viewBox=%220%200%20640%20361%22%3E%3C/svg%3E\" width=\"640\"/></p><p>Fifth Avenue: Fifth Avenue is New York’s premium shopping center. You don’t have to be royalty to visit Fifth Avenue’s posh designer stores. It is also offers excellent views and fun walks window shopping.</p><h3>4. Brooklyn Bridge</h3><p><noscript>&lt;img class=\"alignnone size-large wp-image-107\" src=\"https://traveltoplist.com/wp-content/uploads/2017/02/brooklyn-bridge-1024x679.jpg\" alt=\"brooklyn bridge\" width=\"640\" height=\"424\" srcset=\"https://traveltoplist.com/wp-content/uploads/2017/02/brooklyn-bridge-1024x679.jpg 1024w, https://traveltoplist.com/wp-content/uploads/2017/02/brooklyn-bridge-300x199.jpg 300w, https://traveltoplist.com/wp-content/uploads/2017/02/brooklyn-bridge-768x509.jpg 768w\" sizes=\"(max-width: 640px) 100vw, 640px\" /&gt;</noscript><img alt=\"brooklyn bridge\" class=\"lazyload alignnone size-large wp-image-107\" data-sizes=\"(max-width: 640px) 100vw, 640px\" data-src=\"https://traveltoplist.com/wp-content/uploads/2017/02/brooklyn-bridge-1024x679.jpg\" data-srcset=\"https://traveltoplist.com/wp-content/uploads/2017/02/brooklyn-bridge-1024x679.jpg 1024w, https://traveltoplist.com/wp-content/uploads/2017/02/brooklyn-bridge-300x199.jpg 300w, https://traveltoplist.com/wp-content/uploads/2017/02/brooklyn-bridge-768x509.jpg 768w\" height=\"424\" src=\"data:image/svg+xml,%3Csvg%20xmlns=%22http://www.w3.org/2000/svg%22%20viewBox=%220%200%20640%20424%22%3E%3C/svg%3E\" width=\"640\"/></p><p>Brooklyn Bridge: Opened in 1883, it was the world’s first steel bridge. Crossing the East River, you can enjoy amazing views of Manhattan and other landmarks of the city. Up to a mile-long stroll down the bridge, be on the lookout for cyclists.</p><h3>5. The Statue of Liberty</h3><p><noscript>&lt;img class=\"alignnone size-large wp-image-108\" src=\"https://traveltoplist.com/wp-content/uploads/2017/02/The-Statue-of-Liberty-1024x683.jpg\" alt=\"The Statue of Liberty\" width=\"640\" height=\"427\" srcset=\"https://traveltoplist.com/wp-content/uploads/2017/02/The-Statue-of-Liberty.jpg 1024w, https://traveltoplist.com/wp-content/uploads/2017/02/The-Statue-of-Liberty-300x200.jpg 300w, https://traveltoplist.com/wp-content/uploads/2017/02/The-Statue-of-Liberty-768x512.jpg 768w, https://traveltoplist.com/wp-content/uploads/2017/02/The-Statue-of-Liberty-600x400.jpg 600w\" sizes=\"(max-width: 640px) 100vw, 640px\" /&gt;</noscript><img alt=\"The Statue of Liberty\" class=\"lazyload alignnone size-large wp-image-108\" data-sizes=\"(max-width: 640px) 100vw, 640px\" data-src=\"https://traveltoplist.com/wp-content/uploads/2017/02/The-Statue-of-Liberty-1024x683.jpg\" data-srcset=\"https://traveltoplist.com/wp-content/uploads/2017/02/The-Statue-of-Liberty.jpg 1024w, https://traveltoplist.com/wp-content/uploads/2017/02/The-Statue-of-Liberty-300x200.jpg 300w, https://traveltoplist.com/wp-content/uploads/2017/02/The-Statue-of-Liberty-768x512.jpg 768w, https://traveltoplist.com/wp-content/uploads/2017/02/The-Statue-of-Liberty-600x400.jpg 600w\" height=\"427\" src=\"data:image/svg+xml,%3Csvg%20xmlns=%22http://www.w3.org/2000/svg%22%20viewBox=%220%200%20640%20427%22%3E%3C/svg%3E\" width=\"640\"/></p><p>The Statue of Liberty: The view of New York Harbour and lower Manhattan from the crown of Lady Liberty is worth the climb. It is one of the world’s most famous statues at almost 152 feet tall. The boat ride to Ellis Island is always fun filled.</p><h3>6. The Metropolitan Museum of Art</h3><p><noscript>&lt;img class=\"alignnone wp-image-109\" src=\"https://traveltoplist.com/wp-content/uploads/2017/02/Metropolitan-Museum-of-Art.jpg\" alt=\"Metropolitan Museum of Art\" width=\"640\" height=\"424\" srcset=\"https://traveltoplist.com/wp-content/uploads/2017/02/Metropolitan-Museum-of-Art.jpg 1000w, https://traveltoplist.com/wp-content/uploads/2017/02/Metropolitan-Museum-of-Art-300x199.jpg 300w, https://traveltoplist.com/wp-content/uploads/2017/02/Metropolitan-Museum-of-Art-768x508.jpg 768w\" sizes=\"(max-width: 640px) 100vw, 640px\" /&gt;</noscript><img alt=\"Metropolitan Museum of Art\" class=\"lazyload alignnone wp-image-109\" data-sizes=\"(max-width: 640px) 100vw, 640px\" data-src=\"https://traveltoplist.com/wp-content/uploads/2017/02/Metropolitan-Museum-of-Art.jpg\" data-srcset=\"https://traveltoplist.com/wp-content/uploads/2017/02/Metropolitan-Museum-of-Art.jpg 1000w, https://traveltoplist.com/wp-content/uploads/2017/02/Metropolitan-Museum-of-Art-300x199.jpg 300w, https://traveltoplist.com/wp-content/uploads/2017/02/Metropolitan-Museum-of-Art-768x508.jpg 768w\" height=\"424\" src=\"data:image/svg+xml,%3Csvg%20xmlns=%22http://www.w3.org/2000/svg%22%20viewBox=%220%200%20640%20424%22%3E%3C/svg%3E\" width=\"640\"/></p><p>The Metropolitan Museum of Art: Under the roof of the “Met” are collections of more than two million art works from every part of the world. From ancient Egypt to medieval Europe, there is something for every art lover to enjoy.</p><h3>7. The 9/11 Memorial and Museum</h3><p><noscript>&lt;img class=\"alignnone size-large wp-image-110\" src=\"https://traveltoplist.com/wp-content/uploads/2017/02/ground-zero-1024x768.jpg\" alt=\"ground zero\" width=\"640\" height=\"480\" srcset=\"https://traveltoplist.com/wp-content/uploads/2017/02/ground-zero-1024x768.jpg 1024w, https://traveltoplist.com/wp-content/uploads/2017/02/ground-zero-300x225.jpg 300w, https://traveltoplist.com/wp-content/uploads/2017/02/ground-zero-768x576.jpg 768w\" sizes=\"(max-width: 640px) 100vw, 640px\" /&gt;</noscript><img alt=\"ground zero\" class=\"lazyload alignnone size-large wp-image-110\" data-sizes=\"(max-width: 640px) 100vw, 640px\" data-src=\"https://traveltoplist.com/wp-content/uploads/2017/02/ground-zero-1024x768.jpg\" data-srcset=\"https://traveltoplist.com/wp-content/uploads/2017/02/ground-zero-1024x768.jpg 1024w, https://traveltoplist.com/wp-content/uploads/2017/02/ground-zero-300x225.jpg 300w, https://traveltoplist.com/wp-content/uploads/2017/02/ground-zero-768x576.jpg 768w\" height=\"480\" src=\"data:image/svg+xml,%3Csvg%20xmlns=%22http://www.w3.org/2000/svg%22%20viewBox=%220%200%20640%20480%22%3E%3C/svg%3E\" width=\"640\"/></p><p>The 9/11 Memorial and Museum: Ground Zero is a testimony of the strength of the nation, a heartfelt tribute to the lives lost during the attacks. See the “Survivor Tree” and be part of the story that shook a nation, where the Twin Towers used to stand. The twin pools also have the names of every life that was lost in the attacks immortalized in bronze.</p><h3>8. One World Observatory</h3><p><noscript>&lt;img class=\"alignnone size-large wp-image-111\" src=\"https://traveltoplist.com/wp-content/uploads/2017/02/One-World-Observatory-1024x660.jpg\" alt=\"One World Observatory\" width=\"640\" height=\"413\" srcset=\"https://traveltoplist.com/wp-content/uploads/2017/02/One-World-Observatory-1024x660.jpg 1024w, https://traveltoplist.com/wp-content/uploads/2017/02/One-World-Observatory-300x193.jpg 300w, https://traveltoplist.com/wp-content/uploads/2017/02/One-World-Observatory-768x495.jpg 768w\" sizes=\"(max-width: 640px) 100vw, 640px\" /&gt;</noscript><img alt=\"One World Observatory\" class=\"lazyload alignnone size-large wp-image-111\" data-sizes=\"(max-width: 640px) 100vw, 640px\" data-src=\"https://traveltoplist.com/wp-content/uploads/2017/02/One-World-Observatory-1024x660.jpg\" data-srcset=\"https://traveltoplist.com/wp-content/uploads/2017/02/One-World-Observatory-1024x660.jpg 1024w, https://traveltoplist.com/wp-content/uploads/2017/02/One-World-Observatory-300x193.jpg 300w, https://traveltoplist.com/wp-content/uploads/2017/02/One-World-Observatory-768x495.jpg 768w\" height=\"413\" src=\"data:image/svg+xml,%3Csvg%20xmlns=%22http://www.w3.org/2000/svg%22%20viewBox=%220%200%20640%20413%22%3E%3C/svg%3E\" width=\"640\"/></p><p>One World Observatory: World Trade Center: The observatory offers a breathtaking elevator ride that is gives you a 360-degree view of the Manhattan skyline. The One Café and One Mix also offer different cuisine options to indulge in alongside the amazing city view.</p><h3>9. Rockefeller Center</h3><p><noscript>&lt;img class=\"alignnone size-large wp-image-112\" src=\"https://traveltoplist.com/wp-content/uploads/2017/02/Rockefeller-Center-1024x680.jpg\" alt=\"Rockefeller Center\" width=\"640\" height=\"425\" srcset=\"https://traveltoplist.com/wp-content/uploads/2017/02/Rockefeller-Center-1024x680.jpg 1024w, https://traveltoplist.com/wp-content/uploads/2017/02/Rockefeller-Center-300x199.jpg 300w, https://traveltoplist.com/wp-content/uploads/2017/02/Rockefeller-Center-768x510.jpg 768w\" sizes=\"(max-width: 640px) 100vw, 640px\" /&gt;</noscript><img alt=\"Rockefeller Center\" class=\"lazyload alignnone size-large wp-image-112\" data-sizes=\"(max-width: 640px) 100vw, 640px\" data-src=\"https://traveltoplist.com/wp-content/uploads/2017/02/Rockefeller-Center-1024x680.jpg\" data-srcset=\"https://traveltoplist.com/wp-content/uploads/2017/02/Rockefeller-Center-1024x680.jpg 1024w, https://traveltoplist.com/wp-content/uploads/2017/02/Rockefeller-Center-300x199.jpg 300w, https://traveltoplist.com/wp-content/uploads/2017/02/Rockefeller-Center-768x510.jpg 768w\" height=\"425\" src=\"data:image/svg+xml,%3Csvg%20xmlns=%22http://www.w3.org/2000/svg%22%20viewBox=%220%200%20640%20425%22%3E%3C/svg%3E\" width=\"640\"/></p><p>Rockefeller Center: This site is home to a great ice-skating rink, the bronze Atlas statues and the studio for the Today Show. The Top of the Rock observatory also offers panoramic views. Also look out for the Art Deco murals in several buildings in the center.</p><h3>10. Grand Central Terminal</h3><p><noscript>&lt;img class=\"alignnone size-large wp-image-113\" src=\"https://traveltoplist.com/wp-content/uploads/2017/02/Grand-Central-Terminal-1024x682.jpg\" alt=\"Grand Central Terminal\" width=\"640\" height=\"426\" srcset=\"https://traveltoplist.com/wp-content/uploads/2017/02/Grand-Central-Terminal-1024x682.jpg 1024w, https://traveltoplist.com/wp-content/uploads/2017/02/Grand-Central-Terminal-300x200.jpg 300w, https://traveltoplist.com/wp-content/uploads/2017/02/Grand-Central-Terminal-768x511.jpg 768w, https://traveltoplist.com/wp-content/uploads/2017/02/Grand-Central-Terminal-600x400.jpg 600w, https://traveltoplist.com/wp-content/uploads/2017/02/Grand-Central-Terminal.jpg 1600w\" sizes=\"(max-width: 640px) 100vw, 640px\" /&gt;</noscript><img alt=\"Grand Central Terminal\" class=\"lazyload alignnone size-large wp-image-113\" data-sizes=\"(max-width: 640px) 100vw, 640px\" data-src=\"https://traveltoplist.com/wp-content/uploads/2017/02/Grand-Central-Terminal-1024x682.jpg\" data-srcset=\"https://traveltoplist.com/wp-content/uploads/2017/02/Grand-Central-Terminal-1024x682.jpg 1024w, https://traveltoplist.com/wp-content/uploads/2017/02/Grand-Central-Terminal-300x200.jpg 300w, https://traveltoplist.com/wp-content/uploads/2017/02/Grand-Central-Terminal-768x511.jpg 768w, https://traveltoplist.com/wp-content/uploads/2017/02/Grand-Central-Terminal-600x400.jpg 600w, https://traveltoplist.com/wp-content/uploads/2017/02/Grand-Central-Terminal.jpg 1600w\" height=\"426\" src=\"data:image/svg+xml,%3Csvg%20xmlns=%22http://www.w3.org/2000/svg%22%20viewBox=%220%200%20640%20426%22%3E%3C/svg%3E\" width=\"640\"/></p><p>Grand Central Terminal: Last but not least on the list of places to visit in New York 2020is the Grand Central Terminal. If you are looking to get around New York, this terminal gets you there. However, its huge halls and ceilings are beautiful to explore. You can find several tributes to Mercury, the god of travel and an ornate Tiffany-glass timepiece.</p><div class=\"google-auto-placed ap_container\" style=\"width: 100%; height: auto; clear: none; text-align: center;\"><ins class=\"adsbygoogle adsbygoogle-noablate\" data-ad-client=\"ca-pub-4599175455791813\" data-ad-format=\"auto\" data-adsbygoogle-status=\"done\" style=\"display: block; margin: auto; background-color: transparent;\"><ins id=\"aswift_3_expand\" style=\"display:inline-table;border:none;height:154px;margin:0;padding:0;position:relative;visibility:visible;width:616px;background-color:transparent;\"><ins id=\"aswift_3_anchor\" style=\"display:block;border:none;height:154px;margin:0;padding:0;position:relative;visibility:visible;width:616px;background-color:transparent;\"><iframe allowfullscreen=\"true\" allowtransparency=\"true\" frameborder=\"0\" height=\"154\" hspace=\"0\" id=\"aswift_3\" marginheight=\"0\" marginwidth=\"0\" name=\"aswift_3\" onload=\"var i=this.id,s=window.google_iframe_oncopy,H=s&amp;&amp;s.handlers,h=H&amp;&amp;H[i],w=this.contentWindow,d;try{d=w.document}catch(e){}if(h&amp;&amp;d&amp;&amp;(!d.body||!d.body.firstChild)){if(h.call){setTimeout(h,0)}else if(h.match){try{h=s.upd(h,i)}catch(e){}w.location.replace(h)}}\" scrolling=\"no\" style=\"left:0;position:absolute;top:0;border:0px;width:616px;height:154px;\" vspace=\"0\" width=\"616\"></iframe></ins></ins></ins></div><p>It might take you a few trips to New York to see the whole city but if you’re able to knock off a few from this list, you are going to have a great time one visit at a time.</p><p>I hope you found some of the <strong>top 10 places to visit in New York 2020</strong> interesting, and have time to see some of them during your next trip!</p><p>Image credits (CC, Flickr): <a class=\"owner-name truncate\" data-rapid_p=\"63\" data-track=\"attributionNameClick\" href=\"https://www.flickr.com/photos/hepp/\" title=\"Go to erik forsberg's photostream\">erik forsberg</a>, <a class=\"owner-name truncate\" data-rapid_p=\"37\" data-track=\"attributionNameClick\" href=\"https://www.flickr.com/photos/quintanomedia/\" title=\"Go to Anthony Quintano's photostream\">Anthony Quintano</a>, <a class=\"owner-name truncate\" data-rapid_p=\"37\" data-track=\"attributionNameClick\" href=\"https://www.flickr.com/photos/davidcjones/\" title=\"Go to David Jones's photostream\">David Jones</a>, <a class=\"owner-name truncate\" data-rapid_p=\"35\" data-track=\"attributionNameClick\" href=\"https://www.flickr.com/photos/rafawin/\" title=\"Go to Rafa Win's photostream\">Rafa Win</a>, <a class=\"owner-name truncate\" data-rapid_p=\"33\" data-track=\"attributionNameClick\" href=\"https://www.flickr.com/photos/geographyalltheway_photos/\" title=\"Go to Richard Allaway's photostream\">Richard Allaway</a>, <a class=\"owner-name truncate\" data-rapid_p=\"35\" data-track=\"attributionNameClick\" href=\"https://www.flickr.com/photos/79510655@N08/\" title=\"Go to dee_dee_creamer's photostream\">dee_dee_creamer</a>, <a class=\"owner-name truncate\" data-rapid_p=\"37\" data-track=\"attributionNameClick\" href=\"https://www.flickr.com/photos/akasped/\" title=\"Go to edward stojakovic's photostream\">edward stojakovic</a>, <a class=\"owner-name truncate\" data-rapid_p=\"37\" data-track=\"attributionNameClick\" href=\"https://www.flickr.com/photos/21022123@N04/\" title=\"Go to Mike Steele's photostream\">Mike Steele</a>, <a class=\"owner-name truncate\" data-rapid_p=\"37\" data-track=\"attributionNameClick\" href=\"https://www.flickr.com/photos/dkolitha/\" title=\"Go to Kolitha de Silva's photostream\">Kolitha de Silva</a></p></div>\n"
     ]
    }
   ],
   "source": [
    "results = soup.find_all('div', class_='entry-content')\n",
    "print(results[0])"
   ]
  },
  {
   "cell_type": "code",
   "execution_count": 32,
   "metadata": {},
   "outputs": [
    {
     "name": "stdout",
     "output_type": "stream",
     "text": [
      "[<h3>1. Empire State Building</h3>, <h3>2. Central Park</h3>, <h3>3. Fifth Avenue</h3>, <h3>4. Brooklyn Bridge</h3>, <h3>5. The Statue of Liberty</h3>, <h3>6. The Metropolitan Museum of Art</h3>, <h3>7. The 9/11 Memorial and Museum</h3>, <h3>8. One World Observatory</h3>, <h3>9. Rockefeller Center</h3>, <h3>10. Grand Central Terminal</h3>]\n"
     ]
    }
   ],
   "source": [
    "title = result.find_all('h3')\n",
    "print(title)"
   ]
  },
  {
   "cell_type": "code",
   "execution_count": 28,
   "metadata": {},
   "outputs": [
    {
     "ename": "NameError",
     "evalue": "name 'titles' is not defined",
     "output_type": "error",
     "traceback": [
      "\u001b[1;31m---------------------------------------------------------------------------\u001b[0m",
      "\u001b[1;31mNameError\u001b[0m                                 Traceback (most recent call last)",
      "\u001b[1;32m<ipython-input-28-0b3d416bb98a>\u001b[0m in \u001b[0;36m<module>\u001b[1;34m\u001b[0m\n\u001b[1;32m----> 1\u001b[1;33m \u001b[1;32mfor\u001b[0m \u001b[0mtitle\u001b[0m \u001b[1;32min\u001b[0m \u001b[0mtitles\u001b[0m\u001b[1;33m:\u001b[0m\u001b[1;33m\u001b[0m\u001b[1;33m\u001b[0m\u001b[0m\n\u001b[0m\u001b[0;32m      2\u001b[0m     \u001b[0mprint\u001b[0m\u001b[1;33m(\u001b[0m\u001b[0mtitle\u001b[0m\u001b[1;33m.\u001b[0m\u001b[0mtext\u001b[0m\u001b[1;33m)\u001b[0m\u001b[1;33m\u001b[0m\u001b[1;33m\u001b[0m\u001b[0m\n",
      "\u001b[1;31mNameError\u001b[0m: name 'titles' is not defined"
     ]
    }
   ],
   "source": [
    "for title in titles:\n",
    "    print(title.text)"
   ]
  },
  {
   "cell_type": "code",
   "execution_count": null,
   "metadata": {},
   "outputs": [],
   "source": [
    "try:\n",
    "            # Identify and return title of listing\n",
    "            title = result.find_all('h3')\n",
    "            #article = result.find('div', class_='article_teaser_body').text\n",
    "            #print('page:', title, article)\n",
    "           # print(title, article)\n",
    "\n",
    "\n",
    "           # subheader = result.find('h2', class_='article-item__subheader').\n",
    "            # Identify and return price of listing\n",
    "           # news_p = result.find('div', class_=\"article_teaser_body\").text\n",
    "\n",
    "            # Run only if title, article content \n",
    "            if (title):\n",
    "                # Print results\n",
    "                print('news_title =', title)\n",
    "            "
   ]
  },
  {
   "cell_type": "code",
   "execution_count": null,
   "metadata": {},
   "outputs": [],
   "source": []
  },
  {
   "cell_type": "code",
   "execution_count": null,
   "metadata": {},
   "outputs": [],
   "source": []
  },
  {
   "cell_type": "code",
   "execution_count": 31,
   "metadata": {},
   "outputs": [],
   "source": [
    "collection.drop()\n",
    "\n",
    "for x in range(1, 1):\n",
    "\n",
    "    # Splinter can capture a page's underlying html and use pass it to BeautifulSoup to allow us to scrape the content\n",
    "    html = browser.html\n",
    "    soup = BeautifulSoup(html, 'html.parser')\n",
    "\n",
    "    # Using BS, we can execute standard functions to capture the page's content\n",
    "    results = soup.find_all('div', class_='entry-content')\n",
    "        # Identify and return price of listing\n",
    "       # news_p = result.find('div', class_=\"article_teaser_body\").text\n",
    "\n",
    "    # The below loop will print out the current page number and the quote's text\n",
    "    for result in results:\n",
    "        print(result.text)\n",
    "        try:\n",
    "            # Identify and return title of listing\n",
    "            title = result.find_all('h3')\n",
    "            #article = result.find('div', class_='article_teaser_body').text\n",
    "            #print('page:', title, article)\n",
    "           # print(title, article)\n",
    "\n",
    "\n",
    "           # subheader = result.find('h2', class_='article-item__subheader').\n",
    "            # Identify and return price of listing\n",
    "           # news_p = result.find('div', class_=\"article_teaser_body\").text\n",
    "\n",
    "            # Run only if title, article content \n",
    "            if (title):\n",
    "                # Print results\n",
    "                print('news_title =', title)\n",
    "            \n",
    "\n",
    "                # Dictionary to be inserted as a MongoDB document\n",
    "                post = {'title': title}\n",
    "                  \n",
    "\n",
    "                # Insert result into collection\n",
    "                collection.insert_one(post)\n",
    "\n",
    "        except Exception as e:\n",
    "              print(e)\n",
    "#try:\n",
    "#    browser.click_link_by_href('#')    \n",
    "#except Exception as e:\n",
    "#    x = 10\n",
    "#    print(e)    \n"
   ]
  },
  {
   "cell_type": "code",
   "execution_count": null,
   "metadata": {},
   "outputs": [],
   "source": []
  },
  {
   "cell_type": "code",
   "execution_count": null,
   "metadata": {},
   "outputs": [],
   "source": []
  }
 ],
 "metadata": {
  "kernelspec": {
   "display_name": "Python 3",
   "language": "python",
   "name": "python3"
  },
  "language_info": {
   "codemirror_mode": {
    "name": "ipython",
    "version": 3
   },
   "file_extension": ".py",
   "mimetype": "text/x-python",
   "name": "python",
   "nbconvert_exporter": "python",
   "pygments_lexer": "ipython3",
   "version": "3.7.3"
  }
 },
 "nbformat": 4,
 "nbformat_minor": 2
}
